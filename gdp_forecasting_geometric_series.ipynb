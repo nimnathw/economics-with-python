{
  "nbformat": 4,
  "nbformat_minor": 0,
  "metadata": {
    "colab": {
      "provenance": [],
      "mount_file_id": "1ZvwNqb6z9yw_GMCCPDYmfcPj82S3jfnu",
      "authorship_tag": "ABX9TyPdql4EOl0umLhQLxEAU9WY",
      "include_colab_link": true
    },
    "kernelspec": {
      "name": "python3",
      "display_name": "Python 3"
    },
    "language_info": {
      "name": "python"
    }
  },
  "cells": [
    {
      "cell_type": "markdown",
      "metadata": {
        "id": "view-in-github",
        "colab_type": "text"
      },
      "source": [
        "<a href=\"https://colab.research.google.com/github/nimnathw/economics-with-python/blob/master/gdp_forecasting_geometric_series.ipynb\" target=\"_parent\"><img src=\"https://colab.research.google.com/assets/colab-badge.svg\" alt=\"Open In Colab\"/></a>"
      ]
    },
    {
      "cell_type": "markdown",
      "source": [
        "### Per Capita GDP forecasting\n",
        "\n",
        "There are several methods that can be used to estimate future per capita GDP, which is a measure of the average income per person in a country. These methods can be helpful for policymakers, investors, and analysts who want to make informed decisions about the future economic outlook.\n",
        "\n",
        "One method is time series analysis, which involves using historical data on per capita GDP to identify trends and patterns over time. For example, if per capita GDP has been increasing steadily over the past few years, we might expect it to continue to increase at a similar rate in the future. Time series analysis can be used to forecast future values based on past performance, using techniques such as moving averages or exponential smoothing.\n",
        "\n",
        "Another method is geometric sequences, which are a mathematical model that can be used to estimate future values based on a known growth rate. For example, if we know that per capita GDP has been growing at a rate of 2% per year, we can use a formula to estimate how long it will take for it to double in value. However, this method assumes that the growth rate will remain constant over time, which may not be a realistic assumption.\n",
        "\n",
        "Deep learning methods involve training neural networks on large datasets of historical economic data to identify patterns and make predictions. This method can be used to model complex relationships between economic variables and may be useful for predicting per capita GDP over long time horizons. However, it requires a lot of data and computational resources, which may not be available to everyone.\n",
        "\n",
        "The Solow growth model is a theoretical framework that describes how economies grow over time based on factors such as capital accumulation and technological progress. This model can be used to estimate future per capita GDP by simulating the effects of different policy interventions on economic growth. However, it may not capture all of the factors that influence economic growth in the real world.\n",
        "\n",
        "In practice, a combination of these methods may be used to estimate future per capita GDP, depending on the available data and the specific context. Time series analysis and geometric sequences may be more widely used for short-term forecasting, while deep learning methods and the Solow model may be used for longer-term forecasting and policy analysis. However, it is important to consider the limitations and assumptions of each method when interpreting the results."
      ],
      "metadata": {
        "id": "BsMy32GVhTBA"
      }
    },
    {
      "cell_type": "markdown",
      "source": [
        "In 2022, the per capita real GDP in the United States was $68,500, and its economic growth rate was 4.6% per year. In the same year, the per capita real GDP in China was $18,100, and its economic growth rate was 6.5% per year.\n",
        "\n",
        "    What is the doubling time for the United States' per capita real GDP?\n",
        "    What is the doubling time for China's per capita real GDP?\n",
        "    If the growth rates for both countries remain the same, what will the per capita real GDP be in the United States in 2040?\n",
        "    If the growth rates for both countries remain the same, what will the per capita real GDP be in China in 2040?"
      ],
      "metadata": {
        "id": "BaQ9fDOLbxIP"
      }
    },
    {
      "cell_type": "markdown",
      "source": [
        "we can use the \"Rule of 72\" to estimate the doubling time for each country's per capita real GDP. The rule states that the number of years it takes for a variable to double is approximately equal to 72 divided by the annual growth rate (expressed as a percentage).\n",
        "\n",
        "Using this rule, we can estimate the doubling time for the US and China as follows:\n",
        "\n",
        "    The doubling time for the United States' per capita real GDP is approximately 15.7 years, calculated as 72 divided by the US's annual growth rate of 4.6% (rounded to one decimal place).\n",
        "    Therefore, the US's per capita real GDP would double in about 15.7 years.\n",
        "\n",
        "    The doubling time for China's per capita real GDP is approximately 11.1 years, calculated as 72 divided by China's annual growth rate of 6.5% (rounded to one decimal place).\n",
        "    Therefore, China's per capita real GDP would double in about 11.1 years."
      ],
      "metadata": {
        "id": "E7ORBO1gbwRq"
      }
    },
    {
      "cell_type": "markdown",
      "source": [
        "3 / 3\n",
        "\n",
        "Sure! To derive the formula t = log(2) / log(1 + r) from the equation 2a = a(1+r)^t, we can start by dividing both sides of the equation by a:\n",
        "\n",
        "2 = (1 + r)^t\n",
        "\n",
        "Next, we can take the logarithm of both sides of the equation using any base, but typically we use the natural logarithm (ln) or the common logarithm (log base 10). In this case, we'll use the natural logarithm:\n",
        "\n",
        "ln(2) = ln((1 + r)^t)\n",
        "\n",
        "Using the property of logarithms that ln(a^b) = b * ln(a), we can simplify the right-hand side of the equation:\n",
        "\n",
        "ln(2) = t * ln(1 + r)\n",
        "\n",
        "Finally, we can solve for t by dividing both sides by ln(1 + r):\n",
        "\n",
        "t = ln(2) / ln(1 + r)\n",
        "\n",
        "Using the change of base formula for logarithms, we can also express this as:\n",
        "\n",
        "t = log(2) / log(1 + r)\n",
        "\n",
        "This formula gives us the doubling time in years for a given growth rate r.\n",
        "\n",
        "Where:\n",
        "\n",
        "    t is the doubling time (in years)\n",
        "    r is the annual growth rate (expressed as a decimal)\n",
        "\n",
        "Using this formula, we can answer the first two questions as follows:\n",
        "\n",
        "    The doubling time for the United States' per capita real GDP is approximately 15.1 years, calculated as:\n",
        "\n",
        "t = log(2) / log(1 + 4.6%)\n",
        "≈ log(2) / log(1.046)\n",
        "≈ 15.1 years\n",
        "\n",
        "Therefore, the US's per capita real GDP would double in about 15.1 years.\n",
        "\n",
        "    The doubling time for China's per capita real GDP is approximately 10.7 years, calculated as:\n",
        "\n",
        "t = log(2) / log(1 + 6.5%)\n",
        "≈ log(2) / log(1.065)\n",
        "≈ 10.7 years\n",
        "\n",
        "Therefore, China's per capita real GDP would double in about 10.7 years."
      ],
      "metadata": {
        "id": "x_-OVhgHfycj"
      }
    },
    {
      "cell_type": "markdown",
      "source": [
        "the solution using the geometric sequence formula:\n",
        "\n",
        "The formula for the n-th term of a geometric sequence is:\n",
        "\n",
        "an = a * r^(n-1)\n",
        "\n",
        "Where:\n",
        "\n",
        "    an is the n-th term in the sequence\n",
        "    a is the first term in the sequence\n",
        "    r is the common ratio between consecutive terms\n",
        "    n is the number of terms in the sequence\n",
        "\n",
        "Using this formula, we can answer the last two questions as follows:\n",
        "\n",
        "    If the growth rates for both countries remain the same, the per capita real GDP in the United States in 2040 can be calculated as follows:\n",
        "\n",
        "    a = 68,500\n",
        "    r = 1 + 4.6% = 1.046\n",
        "    n = 2040 - 2022 = 18\n",
        "\n",
        "    an = a * r^(n-1)\n",
        "    = 68,500 * 1.046^18\n",
        "    ≈ $161,416.77\n",
        "\n",
        "    Therefore, the per capita real GDP in the United States in 2040 is estimated to be about $161,416.77.\n",
        "\n",
        "    If the growth rates for both countries remain the same, the per capita real GDP in China in 2040 can be calculated as follows:\n",
        "\n",
        "    a = 18,100\n",
        "    r = 1 + 6.5% = 1.065\n",
        "    n = 2040 - 2022 = 18\n",
        "\n",
        "    an = a * r^(n-1)\n",
        "    = 18,100 * 1.065^18\n",
        "    ≈ $44,259.16\n",
        "\n",
        "    Therefore, the per capita real GDP in China in 2040 is estimated to be about $44,259.16."
      ],
      "metadata": {
        "id": "W9ulkgMRfas2"
      }
    },
    {
      "cell_type": "code",
      "execution_count": null,
      "metadata": {
        "id": "JhmRJa3bVzQB"
      },
      "outputs": [],
      "source": []
    }
  ]
}