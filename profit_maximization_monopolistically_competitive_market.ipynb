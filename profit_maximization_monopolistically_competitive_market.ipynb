{
  "nbformat": 4,
  "nbformat_minor": 0,
  "metadata": {
    "colab": {
      "provenance": [],
      "authorship_tag": "ABX9TyNzyo/q2lqrelbK6db2fZxN",
      "include_colab_link": true
    },
    "kernelspec": {
      "name": "python3",
      "display_name": "Python 3"
    },
    "language_info": {
      "name": "python"
    }
  },
  "cells": [
    {
      "cell_type": "markdown",
      "metadata": {
        "id": "view-in-github",
        "colab_type": "text"
      },
      "source": [
        "<a href=\"https://colab.research.google.com/github/nimnathw/economics-with-python/blob/master/profit_maximization_monopolistically_competitive_market.ipynb\" target=\"_parent\"><img src=\"https://colab.research.google.com/assets/colab-badge.svg\" alt=\"Open In Colab\"/></a>"
      ]
    },
    {
      "cell_type": "markdown",
      "source": [
        "Market structures refer to the different organizational structures of markets that exist in the economy. There are four major types of market structures: perfect competition, monopoly, oligopoly, and monopolistic competition. Each market structure has its unique characteristics, including the number of competitors, product features, pricing, and profit margins.\n",
        "\n",
        "    Perfect Competition\n",
        "    Perfect competition refers to a market structure where there are many buyers and sellers dealing with homogeneous products. The market is characterized by the following features:\n",
        "\n",
        "    Large numbers of buyers and sellers\n",
        "    Identical products\n",
        "    No barriers to entry or exit\n",
        "    Perfect information\n",
        "    Price takers\n",
        "\n",
        "In perfect competition, the demand curve is perfectly elastic, meaning that sellers cannot influence the market price. The marginal revenue curve is equal to the demand curve since each additional unit of output is sold at the same price. For a particular demand curve p = c-mq, the marginal revenue would be equal to c-2mq.\n",
        "\n",
        "    Monopoly\n",
        "    Monopoly is a market structure where there is only one seller with no close substitutes for the product. The market is characterized by the following features:\n",
        "\n",
        "    A single seller\n",
        "    No close substitutes\n",
        "    High barriers to entry\n",
        "    Imperfect information\n",
        "    Price setters\n",
        "\n",
        "In a monopoly, the seller has complete control over the market, and the demand curve is downward sloping. The marginal revenue curve is below the demand curve since the seller has to lower the price to sell more units. For a particular demand curve p = c-mq, the marginal revenue would be equal to c-2mq.\n",
        "\n",
        "    Oligopoly\n",
        "    Oligopoly is a market structure where a few sellers dominate the market. The market is characterized by the following features:\n",
        "\n",
        "    A few dominant sellers\n",
        "    Homogeneous or differentiated products\n",
        "    High barriers to entry\n",
        "    Imperfect information\n",
        "    Price setters\n",
        "\n",
        "In an oligopoly, each seller is aware of the actions of the others, and there is interdependence in decision making. The demand curve is downward sloping, and the marginal revenue curve is also below the demand curve. For a particular demand curve p = c-mq, the marginal revenue would be equal to c-2mq.\n",
        "\n",
        "    Monopolistic Competition\n",
        "    Monopolistic competition is a market structure where there are many sellers, but each seller offers a slightly differentiated product. The market is characterized by the following features:\n",
        "\n",
        "    Many sellers\n",
        "    Differentiated products\n",
        "    Low barriers to entry or exit\n",
        "    Imperfect information\n",
        "    Price setters\n",
        "\n",
        "In monopolistic competition, each seller has a downward sloping demand curve, but the product is not perfect substitutes. The sellers have some control over the price and are price setters. The marginal revenue curve is also below the demand curve. For a particular demand curve p = c-mq, the marginal revenue would be equal to c-2mq.\n",
        "\n",
        "In summary, the four types of market structures have unique features that distinguish them. Perfect competition has many buyers and sellers, identical products, and is characterized by price takers. Monopoly has a single seller, no close substitutes, and is characterized by price setters. Oligopoly has a few dominant sellers, homogeneous or differentiated products, and is characterized by price setters. Monopolistic competition has many sellers, differentiated products, and is characterized by price setters. The marginal revenue curve for each market structure is below the demand curve."
      ],
      "metadata": {
        "id": "AkdjSpB6ZWyx"
      }
    },
    {
      "cell_type": "markdown",
      "source": [
        "Suppose McDonald's operates in a monopolistically competitive market and faces a demand curve for its product, the Big Mac, given by $q = 120 - \\frac{1}{2}p$, where $q$ is the quantity sold per week. The Big Mac's marginal cost curve for McDonald's is $MC = 40$. Using this information, answer the following questions:\n",
        "\n",
        "    How much will McDonald's produce in the short run?\n",
        "    What price will McDonald's charge?\n",
        "    What statistical and machine learning methods can be used to predict the demand curve for McDonald's Big Mac?"
      ],
      "metadata": {
        "id": "ZXl-7BwnVd2t"
      }
    },
    {
      "cell_type": "markdown",
      "source": [
        "The profit-maximizing output level and price for McDonald's are determined by setting marginal revenue (MR) equal to marginal cost (MC), as long as MR is greater than or equal to MC.\n",
        "\n",
        "We can rearrange the demand curve formula to get $p$ on the left side as follows:\n",
        "\n",
        "$q = 120 - \\frac{1}{2}p$\n",
        "\n",
        "Subtract 120 from both sides:\n",
        "\n",
        "$q - 120 = - \\frac{1}{2}p$\n",
        "\n",
        "Multiply both sides by $-2$:\n",
        "\n",
        "$-2(q - 120) = p$\n",
        "\n",
        "Simplifying:\n",
        "\n",
        "$p = -2q + 240$\n",
        "\n",
        "Therefore, the demand curve can also be written as:\n",
        "\n",
        "$p = 240 - 2q$\n",
        "\n",
        "For linear demand curves of monopolistically competitive markets, the marginal revenue curve has twice the slope of the demand curve. Therefore, marginal revenue (MR) for the restaurant is equal to $MR = 240 - 4q$. Alternatively, we can use basic calculus to find the MR function like so:\n",
        "\n",
        "Multiplying the price equation $p = 240 - 2q$ by $q$, we get:\n",
        "\n",
        "$R = pq$\n",
        "\n",
        "$R = q(240 - 2q)$\n",
        "\n",
        "$R = 240q - 2q^2$\n",
        "\n",
        "Therefore, the total revenue (R) for McDonald’s is equal to $240q - 2q^2$.\n",
        "\n",
        "To find the marginal revenue, we need to take the derivative of the total revenue function with respect to quantity (q). The total revenue (R) function for McDonald’s is:\n",
        "\n",
        "$R = 240q - 2q^2$\n",
        "\n",
        "Taking the derivative of R with respect to q, we get:\n",
        "\n",
        "$MR = \\frac{dR}{dq} = 240 - 4q$\n",
        "\n",
        "Therefore, the marginal revenue for McDonald’s is $240 - 4q$.\n",
        "\n",
        "We know at the profit maximization point marginal revenue equals marginal cost.\n",
        "\n",
        "$MR = MC$\n",
        "\n",
        "$240 - 4q = 40$\n",
        "\n",
        "$200 = 4q$\n",
        "\n",
        "$q = 50$\n",
        "\n",
        "Substituting $q = 50$ into the demand curve, we can find the equilibrium price:\n",
        "\n",
        "$q = 120 - \\frac{1}{2}p$\n",
        "\n",
        "$50 = 120 - \\frac{1}{2}p$\n",
        "\n",
        "$\\frac{1}{2}p = 70$\n",
        "\n",
        "$p = 140$\n",
        "\n",
        "Therefore, the equilibrium quantity is 50 and the equilibrium price is 140."
      ],
      "metadata": {
        "id": "dDg2_kTeWCsi"
      }
    },
    {
      "cell_type": "code",
      "execution_count": null,
      "metadata": {
        "id": "v3RN2vHCVGm5"
      },
      "outputs": [],
      "source": []
    }
  ]
}