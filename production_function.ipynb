{
 "cells": [
  {
   "attachments": {},
   "cell_type": "markdown",
   "metadata": {},
   "source": [
    "### Production Function\n",
    "\n",
    "A production function represents the relationship between the inputs used in production and the output that is produced. In this case, we will consider a production function with two inputs: capital (K) and labor (L).\n",
    "\n",
    "The most common functional form for a production function is the Cobb-Douglas function, which takes the following form:\n",
    "\n",
    "$Q = A K^{\\alpha} L^{1-\\alpha}$\n",
    "\n",
    "\n",
    "where Q represents the output, A is a constant representing total factor productivity, α is the output elasticity of capital, and (1-α) is the output elasticity of labor.\n",
    "Production Function Table\n",
    "\n",
    "We can represent this production function as a table by choosing specific values for A and α and plugging in different values of K and L to calculate the resulting output. For example, if we choose A = 1 and α = 0.5, the table might look like this:\n",
    "\n",
    "| K  | L  | Q    |\n",
    "|---:|---:|-----:|\n",
    "|  1 |  1 | 1.00 |\n",
    "|  2 |  1 | 1.41 |\n",
    "|  1 |  2 | 1.41 |\n",
    "|  2 |  2 | 2.00 |\n",
    "\n",
    "\n",
    "### Production Function Graph\n",
    "\n",
    "To graph the production function, we can plot the output (Q) on the y-axis and the combined inputs of capital and labor on the x-axis. We will hold A and α constant and choose a range of values for K and L. Here is an example graph:\n",
    "\n",
    "Production Function Graph\n",
    "\n",
    "### Isoquant\n",
    "\n",
    "Finally, we can represent the Cobb-Douglas production function as an equation in the form of an isoquant, which shows all the different combinations of K and L that produce a given level of output. In this case, we can rearrange the equation to solve for K in terms of L and Q, which gives us:\n",
    "\n",
    "$K = \\left( \\frac{Q}{A L^{1-\\alpha}} \\right)^{\\frac{1}{\\alpha}}$\n",
    "\n",
    "\n",
    "This equation represents the slope of the isoquant at any given point, and we can use it to create a graph of the isoquant. Here is an example of an isoquant graph:\n",
    "\n",
    "Isoquant Graph"
   ]
  },
  {
   "cell_type": "code",
   "execution_count": 5,
   "metadata": {},
   "outputs": [
    {
     "ename": "ModuleNotFoundError",
     "evalue": "No module named 'matplotlib'",
     "output_type": "error",
     "traceback": [
      "\u001b[0;31m---------------------------------------------------------------------------\u001b[0m",
      "\u001b[0;31mModuleNotFoundError\u001b[0m                       Traceback (most recent call last)",
      "Cell \u001b[0;32mIn[5], line 1\u001b[0m\n\u001b[0;32m----> 1\u001b[0m \u001b[39mimport\u001b[39;00m \u001b[39mmatplotlib\u001b[39;00m\u001b[39m.\u001b[39;00m\u001b[39mpyplot\u001b[39;00m \u001b[39mas\u001b[39;00m \u001b[39mplt\u001b[39;00m\n\u001b[1;32m      2\u001b[0m \u001b[39mfrom\u001b[39;00m \u001b[39mmpl_toolkits\u001b[39;00m\u001b[39m.\u001b[39;00m\u001b[39mmplot3d\u001b[39;00m \u001b[39mimport\u001b[39;00m Axes3D\n\u001b[1;32m      3\u001b[0m \u001b[39mimport\u001b[39;00m \u001b[39mnumpy\u001b[39;00m \u001b[39mas\u001b[39;00m \u001b[39mnp\u001b[39;00m\n",
      "\u001b[0;31mModuleNotFoundError\u001b[0m: No module named 'matplotlib'"
     ]
    }
   ],
   "source": [
    "import matplotlib.pyplot as plt\n",
    "from mpl_toolkits.mplot3d import Axes3D\n",
    "import numpy as np\n",
    "\n",
    "# Define the parameters of the Cobb-Douglas production function\n",
    "A = 1\n",
    "alpha = 0.5\n",
    "\n",
    "# Create a meshgrid of K and L values\n",
    "K, L = np.meshgrid(np.linspace(0, 3, 50), np.linspace(0, 3, 50))\n",
    "\n",
    "# Calculate the output (Q) for each combination of K and L\n",
    "Q = A * K**alpha * L**(1-alpha)\n",
    "\n",
    "# Create a 3D surface plot\n",
    "fig = plt.figure(figsize=(10, 8))\n",
    "ax = fig.add_subplot(111, projection='3d')\n",
    "ax.plot_surface(K, L, Q, cmap='viridis')\n",
    "ax.set_xlabel('Capital (K)')\n",
    "ax.set_ylabel('Labor (L)')\n",
    "ax.set_zlabel('Output (Q)')\n",
    "ax.set_title('Cobb-Douglas Production Function')\n",
    "plt.show()\n"
   ]
  }
 ],
 "metadata": {
  "kernelspec": {
   "display_name": "Python 3",
   "language": "python",
   "name": "python3"
  },
  "language_info": {
   "codemirror_mode": {
    "name": "ipython",
    "version": 3
   },
   "file_extension": ".py",
   "mimetype": "text/x-python",
   "name": "python",
   "nbconvert_exporter": "python",
   "pygments_lexer": "ipython3",
   "version": "3.10.6"
  },
  "orig_nbformat": 4
 },
 "nbformat": 4,
 "nbformat_minor": 2
}
